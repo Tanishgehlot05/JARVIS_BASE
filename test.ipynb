{
 "cells": [
  {
   "cell_type": "code",
   "execution_count": 1,
   "metadata": {},
   "outputs": [
    {
     "name": "stdout",
     "output_type": "stream",
     "text": [
      "Collecting pyttsx3\n",
      "  Downloading pyttsx3-2.98-py3-none-any.whl.metadata (3.8 kB)\n",
      "Collecting comtypes (from pyttsx3)\n",
      "  Downloading comtypes-1.4.9-py3-none-any.whl.metadata (7.1 kB)\n",
      "Collecting pypiwin32 (from pyttsx3)\n",
      "  Downloading pypiwin32-223-py3-none-any.whl.metadata (236 bytes)\n",
      "Requirement already satisfied: pywin32 in c:\\users\\tanish gehlot\\appdata\\roaming\\python\\python310\\site-packages (from pyttsx3) (308)\n",
      "Downloading pyttsx3-2.98-py3-none-any.whl (34 kB)\n",
      "Downloading comtypes-1.4.9-py3-none-any.whl (234 kB)\n",
      "Downloading pypiwin32-223-py3-none-any.whl (1.7 kB)\n",
      "Installing collected packages: pypiwin32, comtypes, pyttsx3\n",
      "Successfully installed comtypes-1.4.9 pypiwin32-223 pyttsx3-2.98\n"
     ]
    }
   ],
   "source": [
    "!pip install pyttsx3"
   ]
  },
  {
   "cell_type": "code",
   "execution_count": 9,
   "metadata": {},
   "outputs": [
    {
     "name": "stdout",
     "output_type": "stream",
     "text": [
      "Starting real-time transcription. Speak into the microphone...\n",
      "Press Spacebar to stop.\n",
      "\n",
      "Spacebar pressed. Stopping transcription.\n"
     ]
    }
   ],
   "source": [
    "import sounddevice as sd\n",
    "import numpy as np\n",
    "import whisper\n",
    "import keyboard  # For detecting Spacebar press\n",
    "\n",
    "# Load the Whisper model\n",
    "\n",
    "audio_buffer = []\n",
    "\n",
    "def process_audio_stream( sample_rate=16000):\n",
    "\n",
    "    print(\"Starting real-time transcription. Speak into the microphone...\")\n",
    "    print(\"Press Spacebar to stop.\")\n",
    "\n",
    "\n",
    "\n",
    "    def callback(indata, frames, time, status):\n",
    "        if status:\n",
    "            print(status)\n",
    "        audio_buffer.extend(indata[:, 0])\n",
    "\n",
    "\n",
    "    try:\n",
    "        with sd.InputStream(callback=callback, samplerate=sample_rate, channels=1, dtype=\"int16\"):\n",
    "            while not keyboard.is_pressed(\"space\"):\n",
    "                pass\n",
    "    except KeyboardInterrupt:\n",
    "        print(\"\\nTranscription stopped.\")\n",
    "    print(\"\\nSpacebar pressed. Stopping transcription.\")\n",
    "process_audio_stream()"
   ]
  },
  {
   "cell_type": "code",
   "execution_count": 10,
   "metadata": {},
   "outputs": [
    {
     "name": "stdout",
     "output_type": "stream",
     "text": [
      "Processing audio chunk...\n",
      "Transcription:  Hello guys, my name is Ashthalal, I am from Bhivani Haryana, my branch is CS, my mentor is Lakshabhaya. Some of my hobbies are playing cricket, basketball and badminton. Thank you.\n"
     ]
    }
   ],
   "source": [
    "\n",
    "model = whisper.load_model(\"small\")\n",
    "print(\"Processing audio chunk...\")\n",
    "audio_np = np.float32(audio_buffer) / 32768.0\n",
    "result = model.transcribe(audio=audio_np, fp16=False)\n",
    "print(\"Transcription:\", result[\"text\"])"
   ]
  },
  {
   "cell_type": "code",
   "execution_count": 23,
   "metadata": {},
   "outputs": [],
   "source": []
  },
  {
   "cell_type": "code",
   "execution_count": 16,
   "metadata": {},
   "outputs": [
    {
     "name": "stdout",
     "output_type": "stream",
     "text": [
      "Requirement already satisfied: openai-whisper in c:\\users\\tanis\\anaconda3\\lib\\site-packages (20240930)\n",
      "Requirement already satisfied: numba in c:\\users\\tanis\\anaconda3\\lib\\site-packages (from openai-whisper) (0.60.0)\n",
      "Requirement already satisfied: numpy in c:\\users\\tanis\\anaconda3\\lib\\site-packages (from openai-whisper) (1.26.4)\n",
      "Requirement already satisfied: torch in c:\\users\\tanis\\anaconda3\\lib\\site-packages (from openai-whisper) (2.5.1+cu124)\n",
      "Requirement already satisfied: tqdm in c:\\users\\tanis\\anaconda3\\lib\\site-packages (from openai-whisper) (4.66.5)\n",
      "Requirement already satisfied: more-itertools in c:\\users\\tanis\\anaconda3\\lib\\site-packages (from openai-whisper) (10.3.0)\n",
      "Requirement already satisfied: tiktoken in c:\\users\\tanis\\anaconda3\\lib\\site-packages (from openai-whisper) (0.8.0)\n",
      "Requirement already satisfied: llvmlite<0.44,>=0.43.0dev0 in c:\\users\\tanis\\anaconda3\\lib\\site-packages (from numba->openai-whisper) (0.43.0)\n",
      "Requirement already satisfied: regex>=2022.1.18 in c:\\users\\tanis\\anaconda3\\lib\\site-packages (from tiktoken->openai-whisper) (2024.9.11)\n",
      "Requirement already satisfied: requests>=2.26.0 in c:\\users\\tanis\\anaconda3\\lib\\site-packages (from tiktoken->openai-whisper) (2.32.3)\n",
      "Requirement already satisfied: filelock in c:\\users\\tanis\\anaconda3\\lib\\site-packages (from torch->openai-whisper) (3.13.1)\n",
      "Requirement already satisfied: typing-extensions>=4.8.0 in c:\\users\\tanis\\anaconda3\\lib\\site-packages (from torch->openai-whisper) (4.12.2)\n",
      "Requirement already satisfied: networkx in c:\\users\\tanis\\anaconda3\\lib\\site-packages (from torch->openai-whisper) (3.3)\n",
      "Requirement already satisfied: jinja2 in c:\\users\\tanis\\anaconda3\\lib\\site-packages (from torch->openai-whisper) (3.1.4)\n",
      "Requirement already satisfied: fsspec in c:\\users\\tanis\\anaconda3\\lib\\site-packages (from torch->openai-whisper) (2024.6.1)\n",
      "Requirement already satisfied: setuptools in c:\\users\\tanis\\anaconda3\\lib\\site-packages (from torch->openai-whisper) (75.1.0)\n",
      "Requirement already satisfied: sympy==1.13.1 in c:\\users\\tanis\\anaconda3\\lib\\site-packages (from torch->openai-whisper) (1.13.1)\n",
      "Requirement already satisfied: mpmath<1.4,>=1.1.0 in c:\\users\\tanis\\anaconda3\\lib\\site-packages (from sympy==1.13.1->torch->openai-whisper) (1.3.0)\n",
      "Requirement already satisfied: colorama in c:\\users\\tanis\\anaconda3\\lib\\site-packages (from tqdm->openai-whisper) (0.4.6)\n",
      "Requirement already satisfied: charset-normalizer<4,>=2 in c:\\users\\tanis\\anaconda3\\lib\\site-packages (from requests>=2.26.0->tiktoken->openai-whisper) (3.3.2)\n",
      "Requirement already satisfied: idna<4,>=2.5 in c:\\users\\tanis\\anaconda3\\lib\\site-packages (from requests>=2.26.0->tiktoken->openai-whisper) (3.7)\n",
      "Requirement already satisfied: urllib3<3,>=1.21.1 in c:\\users\\tanis\\anaconda3\\lib\\site-packages (from requests>=2.26.0->tiktoken->openai-whisper) (2.2.3)\n",
      "Requirement already satisfied: certifi>=2017.4.17 in c:\\users\\tanis\\anaconda3\\lib\\site-packages (from requests>=2.26.0->tiktoken->openai-whisper) (2024.12.14)\n",
      "Requirement already satisfied: MarkupSafe>=2.0 in c:\\users\\tanis\\anaconda3\\lib\\site-packages (from jinja2->torch->openai-whisper) (2.1.3)\n"
     ]
    }
   ],
   "source": [
    "!pip install openai-whisper"
   ]
  },
  {
   "cell_type": "code",
   "execution_count": 1,
   "metadata": {},
   "outputs": [
    {
     "name": "stdout",
     "output_type": "stream",
     "text": [
      "Requirement already satisfied: ffmpeg in c:\\users\\tanis\\anaconda3\\lib\\site-packages (1.4)\n"
     ]
    }
   ],
   "source": [
    "!pip install ffmpeg"
   ]
  },
  {
   "cell_type": "code",
   "execution_count": 2,
   "metadata": {},
   "outputs": [
    {
     "name": "stderr",
     "output_type": "stream",
     "text": [
      "c:\\Users\\tanis\\anaconda3\\Lib\\site-packages\\whisper\\__init__.py:150: FutureWarning: You are using `torch.load` with `weights_only=False` (the current default value), which uses the default pickle module implicitly. It is possible to construct malicious pickle data which will execute arbitrary code during unpickling (See https://github.com/pytorch/pytorch/blob/main/SECURITY.md#untrusted-models for more details). In a future release, the default value for `weights_only` will be flipped to `True`. This limits the functions that could be executed during unpickling. Arbitrary objects will no longer be allowed to be loaded via this mode unless they are explicitly allowlisted by the user via `torch.serialization.add_safe_globals`. We recommend you start setting `weights_only=True` for any use case where you don't have full control of the loaded file. Please open an issue on GitHub for any issues related to this experimental feature.\n",
      "  checkpoint = torch.load(fp, map_location=device)\n"
     ]
    },
    {
     "name": "stdout",
     "output_type": "stream",
     "text": [
      "Transcription:  I'm one month into college and I'm two lifetimes behind. There's a girl, less name or mole in her love and fully blind, but it doesn't really say it with me quite right. She hangs out with me, alright. She doesn't really like the things I like. I don't have a chance and I'm singing dance. I just fall down when I take the glans. I wake up kind of wired and I wake up kind of cold. I wake up kind of tired, I'll just sleep in when I'm old. See, I don't like breaking rules, but don't like doing as I'm told. So I'll just hang around with whoever's down and hope my life unfolds.\n"
     ]
    }
   ],
   "source": [
    "import os\n",
    "import whisper\n",
    "model=whisper.load_model(\"base\")\n",
    "file_path = \"hi.m4a\"\n",
    "if os.path.exists(file_path):\n",
    "    results = model.transcribe(file_path)\n",
    "    print(\"Transcription:\", results[\"text\"])\n",
    "else:\n",
    "    print(f\"File not found: {file_path}\")\n"
   ]
  },
  {
   "cell_type": "code",
   "execution_count": 2,
   "metadata": {},
   "outputs": [
    {
     "name": "stdout",
     "output_type": "stream",
     "text": [
      "Requirement already satisfied: ffmpeg in c:\\users\\tanis\\anaconda3\\lib\\site-packages (1.4)\n"
     ]
    }
   ],
   "source": [
    "!pip install ffmpeg"
   ]
  },
  {
   "cell_type": "code",
   "execution_count": null,
   "metadata": {},
   "outputs": [],
   "source": []
  }
 ],
 "metadata": {
  "kernelspec": {
   "display_name": "base",
   "language": "python",
   "name": "python3"
  },
  "language_info": {
   "codemirror_mode": {
    "name": "ipython",
    "version": 3
   },
   "file_extension": ".py",
   "mimetype": "text/x-python",
   "name": "python",
   "nbconvert_exporter": "python",
   "pygments_lexer": "ipython3",
   "version": "3.12.4"
  }
 },
 "nbformat": 4,
 "nbformat_minor": 4
}
