{
 "cells": [
  {
   "cell_type": "code",
   "execution_count": 1,
   "metadata": {},
   "outputs": [
    {
     "name": "stdout",
     "output_type": "stream",
     "text": [
      "Collecting pyttsx3\n",
      "  Downloading pyttsx3-2.98-py3-none-any.whl.metadata (3.8 kB)\n",
      "Collecting comtypes (from pyttsx3)\n",
      "  Downloading comtypes-1.4.9-py3-none-any.whl.metadata (7.1 kB)\n",
      "Collecting pypiwin32 (from pyttsx3)\n",
      "  Downloading pypiwin32-223-py3-none-any.whl.metadata (236 bytes)\n",
      "Requirement already satisfied: pywin32 in c:\\users\\tanish gehlot\\appdata\\roaming\\python\\python310\\site-packages (from pyttsx3) (308)\n",
      "Downloading pyttsx3-2.98-py3-none-any.whl (34 kB)\n",
      "Downloading comtypes-1.4.9-py3-none-any.whl (234 kB)\n",
      "Downloading pypiwin32-223-py3-none-any.whl (1.7 kB)\n",
      "Installing collected packages: pypiwin32, comtypes, pyttsx3\n",
      "Successfully installed comtypes-1.4.9 pypiwin32-223 pyttsx3-2.98\n"
     ]
    }
   ],
   "source": [
    "!pip install pyttsx3"
   ]
  },
  {
   "cell_type": "code",
   "execution_count": 23,
   "metadata": {},
   "outputs": [],
   "source": [
    "import pyttsx3\n",
    "\n",
    "# Initialize the TTS engine\n",
    "engine = pyttsx3.init()\n",
    "\n",
    "# Function to get the available voices (male and female)\n",
    "def get_voice(gender='male'):\n",
    "    voices = engine.getProperty('voices')\n",
    "    if gender == 'female':\n",
    "        return voices[1].id  # Select the second voice in the list (female)\n",
    "    return voices[0].id  # Default to the first voice (male)\n",
    "\n",
    "# Function to calculate dynamic speech rate\n",
    "def get_dynamic_rate(text):\n",
    "    length = len(text)\n",
    "    if length < 50:\n",
    "        return 105  # Slow rate for shorter text\n",
    "    elif length < 200:\n",
    "        return 150  # Moderate rate for medium-length text\n",
    "    else:\n",
    "        return 180  # Faster rate for longer text\n",
    "\n",
    "# Input text\n",
    "text = \"This is a demonstration of how we can adjust the speaking rate dynamically based on the size of the text.\"\n",
    "text2 = \"Hello! Tanish Kumar ,How are you?How much would you rate this Tony Stark's Jarvis model.\"\n",
    "text3 = \"Hi,How are you?\"\n",
    "text4 = \"I am fine.\"\n",
    "\n",
    "# Set dynamic speech rate\n",
    "rate = get_dynamic_rate(text3)\n",
    "engine.setProperty('rate', rate)\n",
    "\n",
    "# Set volume (0.0 to 1.0)\n",
    "engine.setProperty('volume', 0.9)\n",
    "\n",
    "# Set voice (choose male or female)\n",
    "engine.setProperty('voice', get_voice('Male'))# Change to 'male' for a male voice\n",
    "\n",
    "# Speak the text\n",
    "engine.say(text3)\n",
    "engine.runAndWait()\n"
   ]
  },
  {
   "cell_type": "code",
   "execution_count": null,
   "metadata": {},
   "outputs": [],
   "source": []
  },
  {
   "cell_type": "code",
   "execution_count": null,
   "metadata": {},
   "outputs": [],
   "source": []
  }
 ],
 "metadata": {
  "kernelspec": {
   "display_name": "Python 3",
   "language": "python",
   "name": "python3"
  },
  "language_info": {
   "codemirror_mode": {
    "name": "ipython",
    "version": 3
   },
   "file_extension": ".py",
   "mimetype": "text/x-python",
   "name": "python",
   "nbconvert_exporter": "python",
   "pygments_lexer": "ipython3",
   "version": "3.10.0"
  }
 },
 "nbformat": 4,
 "nbformat_minor": 2
}
